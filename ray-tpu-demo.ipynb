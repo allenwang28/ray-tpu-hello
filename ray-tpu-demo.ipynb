{
 "cells": [
  {
   "cell_type": "markdown",
   "id": "b960c67d-8939-4de9-9c55-b6c7d2ae93df",
   "metadata": {},
   "source": [
    "# Ray on TPUs - A Gentle Introduction\n",
    "\n",
    "This notebook aims to provide a gentle introduction to Ray on TPU concepts.\n",
    "\n",
    "Specifically, this notebook aims to cover:\n",
    "- The Ray Cluster Launcher: Provisioning a VM-based Ray cluster \n",
    "- Basics of Ray Core + running on TPUs"
   ]
  },
  {
   "cell_type": "markdown",
   "id": "3ee05d0a-f8e6-4920-bf10-794bb510c990",
   "metadata": {},
   "source": [
    "## Ray Cluster Launcher\n",
    "\n",
    "The [Ray Cluster Launcher](https://docs.ray.io/en/latest/cluster/vms/references/ray-cluster-cli.html) is a CLI tool that is used to deploy [Ray clusters](https://docs.ray.io/en/latest/cluster/getting-started.html) which are the foundation of Ray applications.\n",
    "\n",
    "The Ray cluster launcher operates on a provided YAML file and can be deployed and teared down via commands `ray up cluster.yaml` and `ray down cluster.yaml`.\n",
    "\n",
    "Take a look at the example below:"
   ]
  },
  {
   "cell_type": "code",
   "execution_count": 18,
   "id": "7dea7c52-c51a-4353-b1e9-7fa260d6b056",
   "metadata": {},
   "outputs": [
    {
     "data": {
      "application/vnd.jupyter.widget-view+json": {
       "model_id": "baf36035176a47859f6c8e98613a436d",
       "version_major": 2,
       "version_minor": 0
      },
      "text/plain": [
       "Text(value='my-gcp-project', description='GCP project ID: ')"
      ]
     },
     "metadata": {},
     "output_type": "display_data"
    }
   ],
   "source": [
    "from ipywidgets import widgets\n",
    "\n",
    "text = widgets.Text(\n",
    "    value=\"my-gcp-project\",\n",
    "    description=\"GCP project ID: \",\n",
    "    disabled=False,\n",
    ")\n",
    "display(text)"
   ]
  },
  {
   "cell_type": "code",
   "execution_count": 23,
   "id": "b5ce78f0-120c-4dab-ba55-2816255a9b62",
   "metadata": {},
   "outputs": [
    {
     "name": "stdout",
     "output_type": "stream",
     "text": [
      "Using project name:  mlperf-high-priority-project\n"
     ]
    }
   ],
   "source": [
    "project_name = text.value\n",
    "\n",
    "print(\"Using project name: \", project_name)"
   ]
  },
  {
   "cell_type": "code",
   "execution_count": 49,
   "id": "50925f28-a0cc-4e38-929a-77c2ca332d0d",
   "metadata": {},
   "outputs": [
    {
     "name": "stdout",
     "output_type": "stream",
     "text": [
      "Run: ray up -y /home/allencwang/ray-tpu-hello/tmp/cluster.yaml\n"
     ]
    },
    {
     "name": "stderr",
     "output_type": "stream",
     "text": [
      "2023-10-09 16:38:30,822\tWARNING dataclient.py:403 -- Encountered connection issues in the data channel. Attempting to reconnect.\n",
      "2023-10-09 16:38:40,069\tERROR dataclient.py:330 -- Unrecoverable error in data channel.\n"
     ]
    }
   ],
   "source": [
    "import os\n",
    "\n",
    "cluster_def = \"\"\"\n",
    "cluster_name: tpu-demo\n",
    "\n",
    "max_workers: 3\n",
    "\n",
    "available_node_types:\n",
    "    ray_head_default:\n",
    "        min_workers: 0\n",
    "        max_workers: 0\n",
    "        resources: {{\"CPU\": 0}}\n",
    "        node_config:\n",
    "            machineType: n1-standard-4\n",
    "            disks:\n",
    "              - boot: true\n",
    "                autoDelete: true\n",
    "                type: PERSISTENT\n",
    "                initializeParams:\n",
    "                  diskSizeGb: 50\n",
    "                  sourceImage: projects/ubuntu-os-cloud/global/images/family/ubuntu-2004-lts\n",
    "    ray_tpu_v4_8:\n",
    "        min_workers: 1\n",
    "        max_workers: 2\n",
    "        resources: {{\"TPU\": 4, \"tpu-v4-8\": 1}}\n",
    "        node_config:\n",
    "            acceleratorType: v4-8\n",
    "            runtimeVersion: tpu-vm-v4-base\n",
    "    ray_tpu_v4_16:\n",
    "        min_workers: 1\n",
    "        max_workers: 1\n",
    "        resources: {{\"TPU\": 4, \"tpu-v4-16\": 1}}\n",
    "        node_config:\n",
    "            acceleratorConfig:\n",
    "                type: V4\n",
    "                topology: 2x2x2\n",
    "            runtimeVersion: tpu-vm-v4-base\n",
    "\n",
    "provider:\n",
    "    type: gcp\n",
    "    region: us-central2\n",
    "    availability_zone: us-central2-b\n",
    "    project_id: {project}\n",
    "\n",
    "initialization_commands:\n",
    "  - sudo apt-get update\n",
    "  - sudo apt-get install -y python3-pip python-is-python3\n",
    "\n",
    "setup_commands:\n",
    "  - pip install \"ray[default]\"\n",
    "\n",
    "head_setup_commands:\n",
    "  - pip install google-api-python-client\n",
    " \n",
    "worker_setup_commands:\n",
    "  - pip install 'jax[tpu]==0.4.11' -f https://storage.googleapis.com/jax-releases/libtpu_releases.html\n",
    "\n",
    "head_node_type: ray_head_default\n",
    "\"\"\".format(project=project_name)\n",
    "\n",
    "root_dir = os.path.join(os.getcwd(), \"tmp\")\n",
    "os.makedirs(root_dir, exist_ok=True)\n",
    "yaml_fpath = os.path.join(root_dir, \"cluster.yaml\")\n",
    "with open(yaml_fpath, \"w\") as file:\n",
    "    file.write(cluster_def)\n",
    "\n",
    "print(f\"Run: ray up -y {yaml_fpath}\")"
   ]
  },
  {
   "cell_type": "code",
   "execution_count": 12,
   "id": "b6a9cae6-a5ed-4d7b-bf70-aac4df816b38",
   "metadata": {},
   "outputs": [
    {
     "name": "stdout",
     "output_type": "stream",
     "text": [
      "\u001b[37mCluster\u001b[39m: \u001b[1mtpu-demo\u001b[22m\n",
      "\n",
      "Checking GCP environment settings\n",
      "2023-10-09 15:23:37,153\tINFO config.py:556 -- _configure_key_pair: Private key not specified in config, using/home/allencwang/.ssh/ray-autoscaler_gcp_us-central2_mlperf-high-priority-project_ubuntu_0.pem\n",
      "Updating cluster configuration and running full setup.\n",
      "\u001b[1mCluster Ray runtime will be restarted.\u001b[22m \u001b[4mConfirm [y/N]:\u001b[24m y \u001b[2m[automatic, due to --yes]\u001b[22m\n",
      "\n",
      "Usage stats collection is enabled. To disable this, add `--disable-usage-stats` to the command that starts the cluster, or run the following command: `ray disable-usage-stats` before starting the cluster. See https://docs.ray.io/en/master/cluster/usage-stats.html for more details.\n",
      "\n",
      "\u001b[2m<1/1>\u001b[22m \u001b[36mSetting up head node\u001b[39m\n",
      "  Prepared bootstrap config\n",
      "2023-10-09 15:23:42,034\tINFO node.py:321 -- wait_for_compute_zone_operation: Waiting for operation operation-1696865021785-6074a2cdaf5f8-28aaed21-4b379b3f to finish...\n",
      "2023-10-09 15:23:47,225\tINFO node.py:340 -- wait_for_compute_zone_operation: Operation operation-1696865021785-6074a2cdaf5f8-28aaed21-4b379b3f finished.\n",
      "  \u001b[37mNew status\u001b[39m: \u001b[1mwaiting-for-ssh\u001b[22m\n",
      "  \u001b[2m[1/7]\u001b[22m \u001b[36mWaiting for SSH to become available\u001b[39m\n",
      "    Running `\u001b[1muptime\u001b[22m\u001b[26m` as a test.\n",
      "    \u001b[37mFetched IP\u001b[39m: \u001b[1m35.186.105.168\u001b[22m\n",
      "Warning: Permanently added '35.186.105.168' (ECDSA) to the list of known hosts.\n",
      " 15:23:47 up 3 min,  1 user,  load average: 0.41, 0.44, 0.19\n",
      "Shared connection to 35.186.105.168 closed.\n",
      "    \u001b[32mSuccess.\u001b[39m\n",
      "  Updating cluster configuration.\u001b[0m\u001b[2m [hash=2db40c0e1534d5b66d22b8f37c521f051bfd1c12]\u001b[22m\u001b[0m\n",
      "2023-10-09 15:23:48,349\tINFO node.py:321 -- wait_for_compute_zone_operation: Waiting for operation operation-1696865028077-6074a2d3af8f7-ccb4ea72-e7259fca to finish...\n",
      "2023-10-09 15:23:53,494\tINFO node.py:340 -- wait_for_compute_zone_operation: Operation operation-1696865028077-6074a2d3af8f7-ccb4ea72-e7259fca finished.\n",
      "  \u001b[37mNew status\u001b[39m: \u001b[1msyncing-files\u001b[22m\n",
      "  \u001b[2m[2/7]\u001b[22m \u001b[36mProcessing file mounts\u001b[39m\n",
      "Shared connection to 35.186.105.168 closed.\n",
      "Shared connection to 35.186.105.168 closed.\n",
      "  \u001b[2m[3/7]\u001b[22m No worker file mounts to sync\n",
      "2023-10-09 15:23:54,155\tINFO node.py:321 -- wait_for_compute_zone_operation: Waiting for operation operation-1696865033892-6074a2d93b248-01df69c1-63301d31 to finish...\n",
      "2023-10-09 15:23:59,327\tINFO node.py:340 -- wait_for_compute_zone_operation: Operation operation-1696865033892-6074a2d93b248-01df69c1-63301d31 finished.\n",
      "  \u001b[37mNew status\u001b[39m: \u001b[1msetting-up\u001b[22m\n",
      "  \u001b[2m[4/7]\u001b[22m \u001b[36mRunning initialization commands\u001b[39m\n",
      "Warning: Permanently added '35.186.105.168' (ECDSA) to the list of known hosts.\n",
      "Hit:1 http://us-central2-b.gce.clouds.archive.ubuntu.com/ubuntu focal InRelease\n",
      "Hit:2 http://security.ubuntu.com/ubuntu focal-security InRelease\n",
      "Hit:3 http://us-central2-b.gce.clouds.archive.ubuntu.com/ubuntu focal-updates InRelease\n",
      "Hit:4 http://us-central2-b.gce.clouds.archive.ubuntu.com/ubuntu focal-backports InRelease\n",
      "Reading package lists... Done\n",
      "Connection to 35.186.105.168 closed.\n",
      "Warning: Permanently added '35.186.105.168' (ECDSA) to the list of known hosts.\n",
      "Reading package lists... Done\n",
      "Building dependency tree       \n",
      "Reading state information... Done\n",
      "python-is-python3 is already the newest version (3.8.2-4).\n",
      "python3-pip is already the newest version (20.0.2-5ubuntu1.9).\n",
      "The following packages were automatically installed and are no longer required:\n",
      "  libatasmart4 libblockdev-fs2 libblockdev-loop2 libblockdev-part-err2\n",
      "  libblockdev-part2 libblockdev-swap2 libblockdev-utils2 libblockdev2\n",
      "  libmbim-glib4 libmbim-proxy libmm-glib0 libnspr4 libnss3 libnuma1\n",
      "  libparted-fs-resize0 libqmi-glib5 libqmi-proxy libudisks2-0 libxmlb2\n",
      "  usb-modeswitch usb-modeswitch-data\n",
      "Use 'sudo apt autoremove' to remove them.\n",
      "0 upgraded, 0 newly installed, 0 to remove and 20 not upgraded.\n",
      "Connection to 35.186.105.168 closed.\n",
      "  \u001b[2m[5/7]\u001b[22m \u001b[36mInitializing command runner\u001b[39m\n",
      "  \u001b[2m[6/7]\u001b[22m \u001b[36mRunning setup commands\u001b[39m\n",
      "    \u001b[2m(0/2)\u001b[22m \u001b[1mpip install \"ray[default]\"\u001b[22m\u001b[26m\n",
      "Requirement already satisfied: ray[default] in ./.local/lib/python3.8/site-packages (2.7.0)\n",
      "Requirement already satisfied: packaging in ./.local/lib/python3.8/site-packages (from ray[default]) (23.2)\n",
      "Requirement already satisfied: numpy>=1.16; python_version < \"3.9\" in ./.local/lib/python3.8/site-packages (from ray[default]) (1.24.4)\n",
      "Requirement already satisfied: click>=7.0 in /usr/lib/python3/dist-packages (from ray[default]) (7.0)\n",
      "Requirement already satisfied: pyyaml in /usr/lib/python3/dist-packages (from ray[default]) (5.3.1)\n",
      "Requirement already satisfied: requests in /usr/lib/python3/dist-packages (from ray[default]) (2.22.0)\n",
      "Requirement already satisfied: jsonschema in /usr/lib/python3/dist-packages (from ray[default]) (3.2.0)\n",
      "Requirement already satisfied: msgpack<2.0.0,>=1.0.0 in ./.local/lib/python3.8/site-packages (from ray[default]) (1.0.7)\n",
      "Requirement already satisfied: protobuf!=3.19.5,>=3.15.3 in ./.local/lib/python3.8/site-packages (from ray[default]) (4.24.4)\n",
      "Requirement already satisfied: frozenlist in ./.local/lib/python3.8/site-packages (from ray[default]) (1.4.0)\n",
      "Requirement already satisfied: aiosignal in ./.local/lib/python3.8/site-packages (from ray[default]) (1.3.1)\n",
      "Requirement already satisfied: filelock in ./.local/lib/python3.8/site-packages (from ray[default]) (3.12.4)\n",
      "Requirement already satisfied: py-spy>=0.2.0; extra == \"default\" in ./.local/lib/python3.8/site-packages (from ray[default]) (0.3.14)\n",
      "Requirement already satisfied: grpcio>=1.32.0; python_version < \"3.10\" and extra == \"default\" in ./.local/lib/python3.8/site-packages (from ray[default]) (1.59.0)\n",
      "Requirement already satisfied: aiohttp-cors; extra == \"default\" in ./.local/lib/python3.8/site-packages (from ray[default]) (0.7.0)\n",
      "Requirement already satisfied: pydantic<2; extra == \"default\" in ./.local/lib/python3.8/site-packages (from ray[default]) (1.10.13)\n",
      "Requirement already satisfied: gpustat>=1.0.0; extra == \"default\" in ./.local/lib/python3.8/site-packages (from ray[default]) (1.1.1)\n",
      "Requirement already satisfied: prometheus-client>=0.7.1; extra == \"default\" in ./.local/lib/python3.8/site-packages (from ray[default]) (0.17.1)\n",
      "Requirement already satisfied: smart-open; extra == \"default\" in ./.local/lib/python3.8/site-packages (from ray[default]) (6.4.0)\n",
      "Requirement already satisfied: virtualenv<20.21.1,>=20.0.24; extra == \"default\" in ./.local/lib/python3.8/site-packages (from ray[default]) (20.21.0)\n",
      "Requirement already satisfied: colorful; extra == \"default\" in ./.local/lib/python3.8/site-packages (from ray[default]) (0.5.5)\n",
      "Requirement already satisfied: aiohttp>=3.7; extra == \"default\" in ./.local/lib/python3.8/site-packages (from ray[default]) (3.8.6)\n",
      "Requirement already satisfied: opencensus; extra == \"default\" in ./.local/lib/python3.8/site-packages (from ray[default]) (0.11.3)\n",
      "Requirement already satisfied: typing-extensions>=4.2.0 in ./.local/lib/python3.8/site-packages (from pydantic<2; extra == \"default\"->ray[default]) (4.8.0)\n",
      "Requirement already satisfied: nvidia-ml-py>=11.450.129 in ./.local/lib/python3.8/site-packages (from gpustat>=1.0.0; extra == \"default\"->ray[default]) (12.535.108)\n",
      "Requirement already satisfied: psutil>=5.6.0 in ./.local/lib/python3.8/site-packages (from gpustat>=1.0.0; extra == \"default\"->ray[default]) (5.9.5)\n",
      "Requirement already satisfied: blessed>=1.17.1 in ./.local/lib/python3.8/site-packages (from gpustat>=1.0.0; extra == \"default\"->ray[default]) (1.20.0)\n",
      "Requirement already satisfied: platformdirs<4,>=2.4 in ./.local/lib/python3.8/site-packages (from virtualenv<20.21.1,>=20.0.24; extra == \"default\"->ray[default]) (3.11.0)\n",
      "Requirement already satisfied: distlib<1,>=0.3.6 in ./.local/lib/python3.8/site-packages (from virtualenv<20.21.1,>=20.0.24; extra == \"default\"->ray[default]) (0.3.7)\n",
      "Requirement already satisfied: async-timeout<5.0,>=4.0.0a3 in ./.local/lib/python3.8/site-packages (from aiohttp>=3.7; extra == \"default\"->ray[default]) (4.0.3)\n",
      "Requirement already satisfied: charset-normalizer<4.0,>=2.0 in ./.local/lib/python3.8/site-packages (from aiohttp>=3.7; extra == \"default\"->ray[default]) (3.3.0)\n",
      "Requirement already satisfied: multidict<7.0,>=4.5 in ./.local/lib/python3.8/site-packages (from aiohttp>=3.7; extra == \"default\"->ray[default]) (6.0.4)\n",
      "Requirement already satisfied: yarl<2.0,>=1.0 in ./.local/lib/python3.8/site-packages (from aiohttp>=3.7; extra == \"default\"->ray[default]) (1.9.2)\n",
      "Requirement already satisfied: attrs>=17.3.0 in /usr/lib/python3/dist-packages (from aiohttp>=3.7; extra == \"default\"->ray[default]) (19.3.0)\n",
      "Requirement already satisfied: google-api-core<3.0.0,>=1.0.0; python_version >= \"3.6\" in ./.local/lib/python3.8/site-packages (from opencensus; extra == \"default\"->ray[default]) (2.12.0)\n",
      "Requirement already satisfied: opencensus-context>=0.1.3 in ./.local/lib/python3.8/site-packages (from opencensus; extra == \"default\"->ray[default]) (0.1.3)\n",
      "Requirement already satisfied: wcwidth>=0.1.4 in ./.local/lib/python3.8/site-packages (from blessed>=1.17.1->gpustat>=1.0.0; extra == \"default\"->ray[default]) (0.2.8)\n",
      "Requirement already satisfied: six>=1.9.0 in /usr/lib/python3/dist-packages (from blessed>=1.17.1->gpustat>=1.0.0; extra == \"default\"->ray[default]) (1.14.0)\n",
      "Requirement already satisfied: idna>=2.0 in /usr/lib/python3/dist-packages (from yarl<2.0,>=1.0->aiohttp>=3.7; extra == \"default\"->ray[default]) (2.8)\n",
      "Requirement already satisfied: googleapis-common-protos<2.0.dev0,>=1.56.2 in ./.local/lib/python3.8/site-packages (from google-api-core<3.0.0,>=1.0.0; python_version >= \"3.6\"->opencensus; extra == \"default\"->ray[default]) (1.60.0)\n",
      "Requirement already satisfied: google-auth<3.0.dev0,>=2.14.1 in ./.local/lib/python3.8/site-packages (from google-api-core<3.0.0,>=1.0.0; python_version >= \"3.6\"->opencensus; extra == \"default\"->ray[default]) (2.23.2)\n",
      "Requirement already satisfied: pyasn1-modules>=0.2.1 in /usr/lib/python3/dist-packages (from google-auth<3.0.dev0,>=2.14.1->google-api-core<3.0.0,>=1.0.0; python_version >= \"3.6\"->opencensus; extra == \"default\"->ray[default]) (0.2.1)\n",
      "Requirement already satisfied: cachetools<6.0,>=2.0.0 in ./.local/lib/python3.8/site-packages (from google-auth<3.0.dev0,>=2.14.1->google-api-core<3.0.0,>=1.0.0; python_version >= \"3.6\"->opencensus; extra == \"default\"->ray[default]) (5.3.1)\n",
      "Requirement already satisfied: rsa<5,>=3.1.4 in ./.local/lib/python3.8/site-packages (from google-auth<3.0.dev0,>=2.14.1->google-api-core<3.0.0,>=1.0.0; python_version >= \"3.6\"->opencensus; extra == \"default\"->ray[default]) (4.9)\n",
      "Requirement already satisfied: pyasn1>=0.1.3 in /usr/lib/python3/dist-packages (from rsa<5,>=3.1.4->google-auth<3.0.dev0,>=2.14.1->google-api-core<3.0.0,>=1.0.0; python_version >= \"3.6\"->opencensus; extra == \"default\"->ray[default]) (0.4.2)\n",
      "Shared connection to 35.186.105.168 closed.\n",
      "    \u001b[2m(1/2)\u001b[22m \u001b[1mpip install google-api-python-\u001b[22m...\u001b[26m\n",
      "Requirement already satisfied: google-api-python-client in ./.local/lib/python3.8/site-packages (2.102.0)\n",
      "Requirement already satisfied: httplib2<1.dev0,>=0.15.0 in ./.local/lib/python3.8/site-packages (from google-api-python-client) (0.22.0)\n",
      "Requirement already satisfied: google-auth-httplib2>=0.1.0 in ./.local/lib/python3.8/site-packages (from google-api-python-client) (0.1.1)\n",
      "Requirement already satisfied: uritemplate<5,>=3.0.1 in ./.local/lib/python3.8/site-packages (from google-api-python-client) (4.1.1)\n",
      "Requirement already satisfied: google-api-core!=2.0.*,!=2.1.*,!=2.2.*,!=2.3.0,<3.0.0.dev0,>=1.31.5 in ./.local/lib/python3.8/site-packages (from google-api-python-client) (2.12.0)\n",
      "Requirement already satisfied: google-auth<3.0.0.dev0,>=1.19.0 in ./.local/lib/python3.8/site-packages (from google-api-python-client) (2.23.2)\n",
      "Requirement already satisfied: pyparsing!=3.0.0,!=3.0.1,!=3.0.2,!=3.0.3,<4,>=2.4.2; python_version > \"3.0\" in ./.local/lib/python3.8/site-packages (from httplib2<1.dev0,>=0.15.0->google-api-python-client) (3.1.1)\n",
      "Requirement already satisfied: protobuf!=3.20.0,!=3.20.1,!=4.21.0,!=4.21.1,!=4.21.2,!=4.21.3,!=4.21.4,!=4.21.5,<5.0.0.dev0,>=3.19.5 in ./.local/lib/python3.8/site-packages (from google-api-core!=2.0.*,!=2.1.*,!=2.2.*,!=2.3.0,<3.0.0.dev0,>=1.31.5->google-api-python-client) (4.24.4)\n",
      "Requirement already satisfied: googleapis-common-protos<2.0.dev0,>=1.56.2 in ./.local/lib/python3.8/site-packages (from google-api-core!=2.0.*,!=2.1.*,!=2.2.*,!=2.3.0,<3.0.0.dev0,>=1.31.5->google-api-python-client) (1.60.0)\n",
      "Requirement already satisfied: requests<3.0.0.dev0,>=2.18.0 in /usr/lib/python3/dist-packages (from google-api-core!=2.0.*,!=2.1.*,!=2.2.*,!=2.3.0,<3.0.0.dev0,>=1.31.5->google-api-python-client) (2.22.0)\n",
      "Requirement already satisfied: cachetools<6.0,>=2.0.0 in ./.local/lib/python3.8/site-packages (from google-auth<3.0.0.dev0,>=1.19.0->google-api-python-client) (5.3.1)\n",
      "Requirement already satisfied: rsa<5,>=3.1.4 in ./.local/lib/python3.8/site-packages (from google-auth<3.0.0.dev0,>=1.19.0->google-api-python-client) (4.9)\n",
      "Requirement already satisfied: pyasn1-modules>=0.2.1 in /usr/lib/python3/dist-packages (from google-auth<3.0.0.dev0,>=1.19.0->google-api-python-client) (0.2.1)\n",
      "Requirement already satisfied: pyasn1>=0.1.3 in /usr/lib/python3/dist-packages (from rsa<5,>=3.1.4->google-auth<3.0.0.dev0,>=1.19.0->google-api-python-client) (0.4.2)\n",
      "Shared connection to 35.186.105.168 closed.\n",
      "  \u001b[2m[7/7]\u001b[22m \u001b[36mStarting the Ray runtime\u001b[39m\n",
      "\u001b[32mStopped all 6 Ray processes.\u001b[39m\n",
      "\u001b[0mShared connection to 35.186.105.168 closed.\n",
      "Usage stats collection is enabled. To disable this, add `--disable-usage-stats` to the command that starts the cluster, or run the following command: `ray disable-usage-stats` before starting the cluster. See https://docs.ray.io/en/master/cluster/usage-stats.html for more details.\n",
      "\n",
      "\u001b[37mLocal node IP\u001b[39m: \u001b[1m10.130.0.50\u001b[22m\n",
      "\n",
      "\u001b[32m--------------------\u001b[39m\n",
      "\u001b[32mRay runtime started.\u001b[39m\n",
      "\u001b[32m--------------------\u001b[39m\n",
      "\n",
      "\u001b[36mNext steps\u001b[39m\n",
      "  To add another node to this Ray cluster, run\n",
      "  \u001b[1m  ray start --address='10.130.0.50:6379'\u001b[22m\n",
      "  \n",
      "  To connect to this Ray cluster:\n",
      "    \u001b[35mimport\u001b[39m\u001b[26m ray\n",
      "    ray\u001b[35m.\u001b[39m\u001b[26minit()\n",
      "  \n",
      "  To submit a Ray job using the Ray Jobs CLI:\n",
      "  \u001b[1m  RAY_ADDRESS='http://10.130.0.50:8265' ray job submit --working-dir . -- python my_script.py\u001b[22m\n",
      "  \n",
      "  See https://docs.ray.io/en/latest/cluster/running-applications/job-submission/index.html \n",
      "  for more information on submitting Ray jobs to the Ray cluster.\n",
      "  \n",
      "  To terminate the Ray runtime, run\n",
      "  \u001b[1m  ray stop\u001b[22m\n",
      "  \n",
      "  To view the status of the cluster, use\n",
      "    \u001b[1mray status\u001b[22m\u001b[26m\n",
      "  \n",
      "  To monitor and debug Ray, view the dashboard at \n",
      "    \u001b[1m10.130.0.50:8265\u001b[22m\u001b[26m\n",
      "  \n",
      "  \u001b[4mIf connection to the dashboard fails, check your firewall settings and network configuration.\u001b[24m\n",
      "\u001b[0mShared connection to 35.186.105.168 closed.\n",
      "2023-10-09 15:24:12,590\tINFO node.py:321 -- wait_for_compute_zone_operation: Waiting for operation operation-1696865052355-6074a2ead6b90-340defd2-12ed49d5 to finish...\n",
      "2023-10-09 15:24:17,755\tINFO node.py:340 -- wait_for_compute_zone_operation: Operation operation-1696865052355-6074a2ead6b90-340defd2-12ed49d5 finished.\n",
      "  \u001b[37mNew status\u001b[39m: \u001b[1mup-to-date\u001b[22m\n",
      "\n",
      "\u001b[36mUseful commands\u001b[39m\n",
      "  Monitor autoscaling with\n",
      "  \u001b[1m  ray exec /home/allencwang/ray-tpu-hello/tmp/cluster.yaml 'tail -n 100 -f /tmp/ray/session_latest/logs/monitor*'\u001b[22m\n",
      "  Connect to a terminal on the cluster head:\n",
      "  \u001b[1m  ray attach /home/allencwang/ray-tpu-hello/tmp/cluster.yaml\u001b[22m\n",
      "  Get a remote shell to the cluster manually:\n",
      "    ssh -o IdentitiesOnly=yes -i /home/allencwang/.ssh/ray-autoscaler_gcp_us-central2_mlperf-high-priority-project_ubuntu_0.pem ubuntu@35.186.105.168\n",
      "\u001b[0m"
     ]
    }
   ],
   "source": [
    "! ray up -y /home/allencwang/ray-tpu-hello/tmp/cluster.yaml"
   ]
  },
  {
   "cell_type": "markdown",
   "id": "f8272dcc-a411-4e4d-ad95-b12e58f9e716",
   "metadata": {},
   "source": [
    "As you can see - we have defined a YAML spec of our Ray cluster and used that spec to launch our Ray cluster.\n",
    "\n",
    "Notice the following:\n",
    "- We create:\n",
    "  1)  a `ray_head_default` node - e.g. a CPU VM `n1-standard-4`\n",
    "  2)  a `ray_tpu_v4_8` node - a TPU VM v4-8. We start with a minimum number of replicas, 1, and allow it to scale up to a maximum of 2 replicas.\n",
    "  3)  a `ray_tpu_v4_16` node - a TPU VM v4-16. We start with a minimum number of replicas 1, and do not allow it to scale up or down.\n",
    "-  on top of a GCP based provider.\n",
    "- Each node installs python3, and each worker node installs JAX.\n",
    "- A maximum of 3 workers can be active at a given time at the Ray cluster level.\n",
    "\n",
    "Now that the cluster is provisioned, let's move on to some of the basics Ray concepts."
   ]
  },
  {
   "cell_type": "markdown",
   "id": "405db70b-e0fb-4e43-83e0-84230259077d",
   "metadata": {},
   "source": [
    "## Connecting to the Cluster\n",
    "\n",
    "Once your cluster is provisioned, the first step for developing a Ray application will be to connect to the cluster.\n",
    "\n",
    "From a Jupyter notebook like this, we'll need to connect in \"client mode,\" meaning we will need to provide the init string address. But note that if we were running a workload as a Ray job or Serve deployment (or from within the Ray Head node), `ray.init()` would be sufficient by itself."
   ]
  },
  {
   "cell_type": "code",
   "execution_count": 55,
   "id": "3b3257aa-6619-4f04-8204-1aafa9683a2e",
   "metadata": {},
   "outputs": [
    {
     "data": {
      "application/vnd.jupyter.widget-view+json": {
       "model_id": "d7c263a7f3f543598bf80a63c0d69392",
       "version_major": 2,
       "version_minor": 0
      },
      "text/html": [
       "<div class=\"lm-Widget p-Widget lm-Panel p-Panel jp-Cell-outputWrapper\">\n",
       "    <div style=\"margin-left: 50px;display: flex;flex-direction: row;align-items: center\">\n",
       "        <div class=\"jp-RenderedHTMLCommon\" style=\"display: flex; flex-direction: row;\">\n",
       "  <svg viewBox=\"0 0 567 224\" fill=\"none\" xmlns=\"http://www.w3.org/2000/svg\" style=\"height: 3em;\">\n",
       "    <g clip-path=\"url(#clip0_4338_178347)\">\n",
       "        <path d=\"M341.29 165.561H355.29L330.13 129.051C345.63 123.991 354.21 112.051 354.21 94.2307C354.21 71.3707 338.72 58.1807 311.88 58.1807H271V165.561H283.27V131.661H311.8C314.25 131.661 316.71 131.501 319.01 131.351L341.25 165.561H341.29ZM283.29 119.851V70.0007H311.82C331.3 70.0007 342.34 78.2907 342.34 94.5507C342.34 111.271 331.34 119.861 311.82 119.861L283.29 119.851ZM451.4 138.411L463.4 165.561H476.74L428.74 58.1807H416L367.83 165.561H380.83L392.83 138.411H451.4ZM446.19 126.601H398L422 72.1407L446.24 126.601H446.19ZM526.11 128.741L566.91 58.1807H554.35L519.99 114.181L485.17 58.1807H472.44L514.01 129.181V165.541H526.13V128.741H526.11Z\" fill=\"var(--jp-ui-font-color0)\"/>\n",
       "        <path d=\"M82.35 104.44C84.0187 97.8827 87.8248 92.0678 93.1671 87.9146C98.5094 83.7614 105.083 81.5067 111.85 81.5067C118.617 81.5067 125.191 83.7614 130.533 87.9146C135.875 92.0678 139.681 97.8827 141.35 104.44H163.75C164.476 101.562 165.622 98.8057 167.15 96.2605L127.45 56.5605C121.071 60.3522 113.526 61.6823 106.235 60.3005C98.9443 58.9187 92.4094 54.9203 87.8602 49.0574C83.3109 43.1946 81.0609 35.8714 81.5332 28.4656C82.0056 21.0599 85.1679 14.0819 90.4252 8.8446C95.6824 3.60726 102.672 0.471508 110.08 0.0272655C117.487 -0.416977 124.802 1.86091 130.647 6.4324C136.493 11.0039 140.467 17.5539 141.821 24.8501C143.175 32.1463 141.816 39.6859 138 46.0505L177.69 85.7505C182.31 82.9877 187.58 81.4995 192.962 81.4375C198.345 81.3755 203.648 82.742 208.33 85.3976C213.012 88.0532 216.907 91.9029 219.616 96.5544C222.326 101.206 223.753 106.492 223.753 111.875C223.753 117.258 222.326 122.545 219.616 127.197C216.907 131.848 213.012 135.698 208.33 138.353C203.648 141.009 198.345 142.375 192.962 142.313C187.58 142.251 182.31 140.763 177.69 138L138 177.7C141.808 184.071 143.155 191.614 141.79 198.91C140.424 206.205 136.44 212.75 130.585 217.313C124.731 221.875 117.412 224.141 110.004 223.683C102.596 223.226 95.6103 220.077 90.3621 214.828C85.1139 209.58 81.9647 202.595 81.5072 195.187C81.0497 187.779 83.3154 180.459 87.878 174.605C92.4405 168.751 98.9853 164.766 106.281 163.401C113.576 162.035 121.119 163.383 127.49 167.19L167.19 127.49C165.664 124.941 164.518 122.182 163.79 119.3H141.39C139.721 125.858 135.915 131.673 130.573 135.826C125.231 139.98 118.657 142.234 111.89 142.234C105.123 142.234 98.5494 139.98 93.2071 135.826C87.8648 131.673 84.0587 125.858 82.39 119.3H60C58.1878 126.495 53.8086 132.78 47.6863 136.971C41.5641 141.163 34.1211 142.972 26.7579 142.059C19.3947 141.146 12.6191 137.574 7.70605 132.014C2.79302 126.454 0.0813599 119.29 0.0813599 111.87C0.0813599 104.451 2.79302 97.2871 7.70605 91.7272C12.6191 86.1673 19.3947 82.5947 26.7579 81.6817C34.1211 80.7686 41.5641 82.5781 47.6863 86.7696C53.8086 90.9611 58.1878 97.2456 60 104.44H82.35ZM100.86 204.32C103.407 206.868 106.759 208.453 110.345 208.806C113.93 209.159 117.527 208.258 120.522 206.256C123.517 204.254 125.725 201.276 126.771 197.828C127.816 194.38 127.633 190.677 126.253 187.349C124.874 184.021 122.383 181.274 119.205 179.577C116.027 177.88 112.359 177.337 108.826 178.042C105.293 178.746 102.113 180.654 99.8291 183.44C97.5451 186.226 96.2979 189.718 96.3 193.32C96.2985 195.364 96.7006 197.388 97.4831 199.275C98.2656 201.163 99.4132 202.877 100.86 204.32ZM204.32 122.88C206.868 120.333 208.453 116.981 208.806 113.396C209.159 109.811 208.258 106.214 206.256 103.219C204.254 100.223 201.275 98.0151 197.827 96.97C194.38 95.9249 190.676 96.1077 187.348 97.4873C184.02 98.8669 181.274 101.358 179.577 104.536C177.879 107.714 177.337 111.382 178.041 114.915C178.746 118.448 180.653 121.627 183.439 123.911C186.226 126.195 189.717 127.443 193.32 127.44C195.364 127.443 197.388 127.042 199.275 126.259C201.163 125.476 202.878 124.328 204.32 122.88ZM122.88 19.4205C120.333 16.8729 116.981 15.2876 113.395 14.9347C109.81 14.5817 106.213 15.483 103.218 17.4849C100.223 19.4868 98.0146 22.4654 96.9696 25.9131C95.9245 29.3608 96.1073 33.0642 97.4869 36.3922C98.8665 39.7202 101.358 42.4668 104.535 44.1639C107.713 45.861 111.381 46.4036 114.914 45.6992C118.447 44.9949 121.627 43.0871 123.911 40.301C126.195 37.515 127.442 34.0231 127.44 30.4205C127.44 28.3772 127.038 26.3539 126.255 24.4664C125.473 22.5788 124.326 20.8642 122.88 19.4205ZM19.42 100.86C16.8725 103.408 15.2872 106.76 14.9342 110.345C14.5813 113.93 15.4826 117.527 17.4844 120.522C19.4863 123.518 22.4649 125.726 25.9127 126.771C29.3604 127.816 33.0638 127.633 36.3918 126.254C39.7198 124.874 42.4664 122.383 44.1635 119.205C45.8606 116.027 46.4032 112.359 45.6988 108.826C44.9944 105.293 43.0866 102.114 40.3006 99.8296C37.5145 97.5455 34.0227 96.2983 30.42 96.3005C26.2938 96.3018 22.337 97.9421 19.42 100.86ZM100.86 100.86C98.3125 103.408 96.7272 106.76 96.3742 110.345C96.0213 113.93 96.9226 117.527 98.9244 120.522C100.926 123.518 103.905 125.726 107.353 126.771C110.8 127.816 114.504 127.633 117.832 126.254C121.16 124.874 123.906 122.383 125.604 119.205C127.301 116.027 127.843 112.359 127.139 108.826C126.434 105.293 124.527 102.114 121.741 99.8296C118.955 97.5455 115.463 96.2983 111.86 96.3005C109.817 96.299 107.793 96.701 105.905 97.4835C104.018 98.2661 102.303 99.4136 100.86 100.86Z\" fill=\"#00AEEF\"/>\n",
       "    </g>\n",
       "    <defs>\n",
       "        <clipPath id=\"clip0_4338_178347\">\n",
       "            <rect width=\"566.93\" height=\"223.75\" fill=\"white\"/>\n",
       "        </clipPath>\n",
       "    </defs>\n",
       "  </svg>\n",
       "</div>\n",
       "\n",
       "        <table class=\"jp-RenderedHTMLCommon\" style=\"border-collapse: collapse;color: var(--jp-ui-font-color1);font-size: var(--jp-ui-font-size1);\">\n",
       "    <tr>\n",
       "        <td style=\"text-align: left\"><b>Python version:</b></td>\n",
       "        <td style=\"text-align: left\"><b>3.8.10</b></td>\n",
       "    </tr>\n",
       "    <tr>\n",
       "        <td style=\"text-align: left\"><b>Ray version:</b></td>\n",
       "        <td style=\"text-align: left\"><b>2.7.0</b></td>\n",
       "    </tr>\n",
       "    <tr>\n",
       "    <td style=\"text-align: left\"><b>Dashboard:</b></td>\n",
       "    <td style=\"text-align: left\"><b><a href=\"http://10.130.0.74:8265\" target=\"_blank\">http://10.130.0.74:8265</a></b></td>\n",
       "</tr>\n",
       "\n",
       "</table>\n",
       "\n",
       "    </div>\n",
       "</div>\n"
      ],
      "text/plain": [
       "ClientContext(dashboard_url='10.130.0.74:8265', python_version='3.8.10', ray_version='2.7.0', ray_commit='b4bba4717f5ba04ee25580fe8f88eed63ef0c5dc', protocol_version='2023-06-27', _num_clients=1, _context_to_restore=<ray.util.client._ClientContext object at 0x7f81c0ac1c10>)"
      ]
     },
     "execution_count": 55,
     "metadata": {},
     "output_type": "execute_result"
    }
   ],
   "source": [
    "import ray\n",
    "\n",
    "# We connect to the internal IP at port 10001 for \"client mode\"\n",
    "ray.init(\"ray://10.130.0.74:10001\")"
   ]
  },
  {
   "cell_type": "markdown",
   "id": "875237ec-9f71-4605-9e84-86d659f8e37b",
   "metadata": {},
   "source": [
    "## Ray Core Basics\n",
    "Ray allows developers to easily scale out workloads from an interactive notebook setting like this, to large clusters e.g. in a Cloud environment. To help developers achieve this, Ray Core provides a small, limited number of core primitives for fleshing out applications. \n",
    "\n",
    "Let's walk through this together.\n",
    "\n",
    "### Ray Tasks\n",
    "Ray lets you run functions as remote tasks on a cluster. To do this is simple:\n",
    "1) you decorate your function with `@ray.remote`\n",
    "2) you invoke that function with `.remote()` which returns a reference,\n",
    "3) you fetch the value of the reference with `ray.get`. \n",
    "\n",
    "Let's see this in action:"
   ]
  },
  {
   "cell_type": "code",
   "execution_count": 46,
   "id": "9b8c6316-adb9-4d1b-8d18-0066b2f28065",
   "metadata": {},
   "outputs": [
    {
     "name": "stdout",
     "output_type": "stream",
     "text": [
      "[0, 1, 4, 9]\n"
     ]
    }
   ],
   "source": [
    "# Define the square task.\n",
    "@ray.remote\n",
    "def square(x):\n",
    "    return x * x\n",
    "\n",
    "# Launch four parallel square tasks.\n",
    "futures = [square.remote(i) for i in range(4)]\n",
    "\n",
    "# Retrieve results.\n",
    "print(ray.get(futures))"
   ]
  },
  {
   "cell_type": "markdown",
   "id": "9fa10481-6316-497c-92f1-7067cab17e38",
   "metadata": {},
   "source": [
    "### Ray Actors\n",
    "Ray provides actors to allow you to parallelize computation across multiple actor instances.\n",
    "\n",
    "When you instantiate a class that is a Ray actor, Ray will start a remote instance of that class in the cluster.\n",
    "\n",
    "This actor can then execute remote method calls and maintain its own internal state:\n",
    "\n"
   ]
  },
  {
   "cell_type": "code",
   "execution_count": 47,
   "id": "00257c5f-db72-49ac-b76a-c550cbb9ff03",
   "metadata": {},
   "outputs": [
    {
     "name": "stdout",
     "output_type": "stream",
     "text": [
      "10\n",
      "\u001b[2m\u001b[1m\u001b[36m(autoscaler +8m59s)\u001b[0m Resized to 720 CPUs, 12 TPUs.\n"
     ]
    }
   ],
   "source": [
    "# Define the Counter actor.\n",
    "@ray.remote\n",
    "class Counter:\n",
    "    def __init__(self):\n",
    "        self.i = 0\n",
    "\n",
    "    def get(self):\n",
    "        return self.i\n",
    "\n",
    "    def incr(self, value):\n",
    "        self.i += value\n",
    "\n",
    "# Create a Counter actor.\n",
    "c = Counter.remote()\n",
    "\n",
    "# Submit calls to the actor. These calls run asynchronously but in\n",
    "# submission order on the remote actor process.\n",
    "for _ in range(10):\n",
    "    c.incr.remote(1)\n",
    "\n",
    "# Retrieve final actor state.\n",
    "print(ray.get(c.get.remote()))"
   ]
  },
  {
   "cell_type": "markdown",
   "id": "f9b4155a-4026-480b-b31d-54bfaa924d3b",
   "metadata": {},
   "source": [
    "### Ray Resources\n",
    "\n",
    "Ray resources abstract away physical machines and let you express your computation in terms of logical resources. The system manages the complexities of scheduling and autoscaling based on resource requests.\n",
    "\n",
    "Resources in Ray are key-value pairs where the key is a resource name, and the value is a float quantity.\n",
    "\n",
    "Ray provides native support for CPU, GPU, TPU, AWS-neuron, memory resource types - but also supports \"custom resources\" as well.\n",
    "\n",
    "If we were to take a look at our available resources:"
   ]
  },
  {
   "cell_type": "code",
   "execution_count": 45,
   "id": "ab72eeca-ac02-469f-8396-f85f7b657a96",
   "metadata": {},
   "outputs": [
    {
     "data": {
      "text/plain": [
       "{'node:10.130.0.92': 1.0,\n",
       " 'TPU-V4': 8.0,\n",
       " 'node:__internal_head__': 1.0,\n",
       " 'TPU': 8.0,\n",
       " 'tpu-v4-16': 2.0,\n",
       " 'CPU': 480.0,\n",
       " 'memory': 608839377307.0,\n",
       " 'object_store_memory': 261567048498.0,\n",
       " 'node:10.130.0.74': 1.0,\n",
       " 'node:10.130.0.90': 1.0}"
      ]
     },
     "execution_count": 45,
     "metadata": {},
     "output_type": "execute_result"
    }
   ],
   "source": [
    "ray.available_resources()"
   ]
  },
  {
   "cell_type": "markdown",
   "id": "b781b9bc-cdc0-4abd-bb0f-cb5feba58cda",
   "metadata": {},
   "source": [
    "We can see that:\n",
    "1) Despite us not having explicitly defined a resource for \"TPU-V4\" in the cluster YAML, it shows up in our available resources. This is a side effect of TPUs being a native resource. Similarly, we did not explicitly define the amount of memory or CPU available in our node types.\n",
    "2) However, we do see resource types for tpu-v4-8 and tpu-v4-16. This is an example of a custom resource.\n",
    "\n",
    "Ray resources are logical and don't strictly require a 1-to-1 mapping with physical resources - these resources are defined per ray node in the `ray start` command once the cluster is set up. An implication of this is that it's the responsibility of the user to be consistent with this mapping and not violate these assumptions in their application.\n",
    "\n",
    "### Requesting Resources\n",
    "Resources are the foundation of Ray's autoscaling capabilities - the Ray autoscaler scales based on the demand of the running Ray application.\n",
    "\n",
    "The Ray application makes its demands by specifying the logical resource requirements of Ray tasks and actors.\n",
    "\n",
    "To see this in action, check out the following example:"
   ]
  },
  {
   "cell_type": "code",
   "execution_count": 56,
   "id": "10577d91-36fb-4230-983f-7a84d3ffa195",
   "metadata": {},
   "outputs": [
    {
     "data": {
      "text/plain": [
       "'t1v-n-c7cc0a56-w-0'"
      ]
     },
     "execution_count": 56,
     "metadata": {},
     "output_type": "execute_result"
    },
    {
     "name": "stdout",
     "output_type": "stream",
     "text": [
      "\u001b[2m\u001b[1m\u001b[36m(autoscaler +28s)\u001b[0m Tip: use `ray status` to view detailed cluster status. To disable these messages, set RAY_SCHEDULER_EVENTS=0.\n",
      "\u001b[2m\u001b[1m\u001b[36m(autoscaler +28s)\u001b[0m Resized to 720 CPUs, 12 TPUs.\n"
     ]
    }
   ],
   "source": [
    "@ray.remote(resources={\"TPU\": 4, \"tpu-v4-8\": 1})\n",
    "def my_function():\n",
    "    import socket\n",
    "    return socket.gethostname()\n",
    "\n",
    "ray.get(my_function.remote())"
   ]
  },
  {
   "cell_type": "markdown",
   "id": "cb098c1b-0a57-489c-9a81-34b9a0e9c1e6",
   "metadata": {},
   "source": [
    "Based on the returned hostname, we can tell that this indeed executed on a TPU VM. Notice that:\n",
    "1) There was no constraint preventing us from claiming the TPU logical resources despite not accessing the physical resources\n",
    "2) We can use this custom resource \"tpu-v4-8\" to target a particular type of TPU.\n",
    "\n",
    "But we could also actually use the physical resources:"
   ]
  },
  {
   "cell_type": "code",
   "execution_count": 57,
   "id": "c209774d-7dfe-4aa8-bb0c-094dbe82df39",
   "metadata": {},
   "outputs": [
    {
     "data": {
      "text/plain": [
       "4"
      ]
     },
     "execution_count": 57,
     "metadata": {},
     "output_type": "execute_result"
    }
   ],
   "source": [
    "@ray.remote(resources={\"TPU\": 4, \"tpu-v4-8\": 1})\n",
    "def device_count():\n",
    "    import jax\n",
    "    return jax.device_count()\n",
    "\n",
    "ray.get(device_count.remote())"
   ]
  },
  {
   "cell_type": "markdown",
   "id": "21854b40-98fc-46ab-a61f-b63fd331f20c",
   "metadata": {},
   "source": [
    "and run on a TPU pod as well..."
   ]
  },
  {
   "cell_type": "code",
   "execution_count": 58,
   "id": "89699e8e-2435-42ef-9a86-4fef6557d12a",
   "metadata": {},
   "outputs": [
    {
     "data": {
      "text/plain": [
       "[8, 8]"
      ]
     },
     "execution_count": 58,
     "metadata": {},
     "output_type": "execute_result"
    }
   ],
   "source": [
    "@ray.remote(resources={\"TPU\": 4, \"tpu-v4-16\": 1})\n",
    "def device_count():\n",
    "    import jax\n",
    "    return jax.device_count()\n",
    "\n",
    "handles = [device_count.remote() for _ in range(2)]\n",
    "ray.get(handles)"
   ]
  },
  {
   "cell_type": "markdown",
   "id": "a7525d83-1d39-47d9-985f-b57a753364d7",
   "metadata": {},
   "source": [
    "We could also trigger autoscaling from the application, as long as our Ray cluster supports it. In our cluster config, we indicated that it's ok to create multiple v4-8s:"
   ]
  },
  {
   "cell_type": "code",
   "execution_count": 59,
   "id": "6edcc33c-f4af-40e9-bc6f-914e1f61cc41",
   "metadata": {},
   "outputs": [
    {
     "name": "stdout",
     "output_type": "stream",
     "text": [
      "\u001b[2m\u001b[1m\u001b[36m(autoscaler +11m29s)\u001b[0m Adding 1 node(s) of type ray_tpu_v4_8.\n",
      "\u001b[2m\u001b[1m\u001b[36m(autoscaler +13m33s)\u001b[0m Resized to 960 CPUs, 16 TPUs.\n",
      "\u001b[2m\u001b[1m\u001b[36m(autoscaler +19m54s)\u001b[0m Removing 1 nodes of type ray_tpu_v4_8 (idle).\n",
      "\u001b[2m\u001b[1m\u001b[36m(autoscaler +20m4s)\u001b[0m Resized to 720 CPUs, 12 TPUs.\n"
     ]
    }
   ],
   "source": [
    "@ray.remote(resources={\"TPU\": 4, \"tpu-v4-8\": 1})\n",
    "def my_long_running_fn():\n",
    "    import time\n",
    "    # Sleep for 5 min just to claim the resources and trigger autoscaling...\n",
    "    time.sleep(5 * 60)\n",
    "\n",
    "\n",
    "h1 = my_long_running_fn.remote()\n",
    "h2 = my_long_running_fn.remote()"
   ]
  },
  {
   "cell_type": "markdown",
   "id": "26b93cba-6323-45a1-bf75-b94401c57d6c",
   "metadata": {},
   "source": [
    "...which, the Ray system will interpret as:\n",
    "\n",
    "```\n",
    "$ ray exec tmp/cluster.yaml \"ray status\"\n",
    "...\n",
    "Resources\n",
    "---------------------------------------------------------------\n",
    "Usage:\n",
    " 1.0/720.0 CPU\n",
    " 4.0/12.0 TPU\n",
    " 0.0/12.0 TPU-V4\n",
    " 0B/846.37GiB memory\n",
    " 2.14KiB/363.33GiB object_store_memory\n",
    " 0.0/2.0 tpu-v4-16\n",
    " 1.0/1.0 tpu-v4-8\n",
    "\n",
    "Demands:\n",
    " {'CPU': 1.0, 'TPU': 4.0, 'tpu-v4-8': 1.0}: 1+ pending tasks/actors\n",
    "```\n",
    "\n",
    "and use the demands to finally trigger autoscaling:\n",
    "```\n",
    "2023-10-09 16:48:15,909 INFO autoscaler.py:1379 -- StandardAutoscaler: Queue 1 new nodes for launch\n",
    "2023-10-09 16:48:15,910 INFO autoscaler.py:464 -- The autoscaler took 0.162 seconds to complete the update iteration.\n",
    "2023-10-09 16:48:15,910 INFO node_launcher.py:177 -- NodeLauncher0: Got 1 nodes to launch.\n",
    "2023-10-09 16:48:18,331 INFO node.py:578 -- wait_for_tpu_operation: Waiting for operation projects/mlperf-high-priority-project/locations/us-central2-b/operations/operation-1696870095949-6074b5b4c9063-63d36f8f-7982f037 to finish...\n",
    "```"
   ]
  },
  {
   "cell_type": "markdown",
   "id": "7e1cf12e-4ade-405f-9fff-2833f9d7900a",
   "metadata": {},
   "source": [
    "Finally, to teardown the application - we could run something like:\n",
    "\n",
    "```\n",
    "$ ray down -y tmp/cluster.yaml\n",
    "```\n",
    "\n",
    "The world of Ray is vast and we've only scratched the surface in this notebook. However, after having gone through this notebook you should understand some of the basic concepts about Ray and the fundamentals for building large, distributed and accelerated applications!\n",
    "\n",
    "For further code references for Ray with TPUs, check out: \n",
    "- [Distributed Hyperparameter Tuning with Ray Tune and TPUs](https://github.com/tensorflow/tpu/tree/master/tools/ray_tpu/src/tune)\n",
    "- [Distributed Serving with Ray Serve and TPUs](https://github.com/tensorflow/tpu/tree/master/tools/ray_tpu/src/serve)\n",
    "- [Training and serving LLaMa2 with PyTorch/XLA on TPUs](https://github.com/pytorch-tpu/ray-llama)"
   ]
  }
 ],
 "metadata": {
  "kernelspec": {
   "display_name": "Python 3 (ipykernel)",
   "language": "python",
   "name": "python3"
  },
  "language_info": {
   "codemirror_mode": {
    "name": "ipython",
    "version": 3
   },
   "file_extension": ".py",
   "mimetype": "text/x-python",
   "name": "python",
   "nbconvert_exporter": "python",
   "pygments_lexer": "ipython3",
   "version": "3.8.10"
  }
 },
 "nbformat": 4,
 "nbformat_minor": 5
}
